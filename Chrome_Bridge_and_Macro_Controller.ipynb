{
  "cells": [
    {
      "cell_type": "markdown",
      "metadata": {
        "id": "view-in-github",
        "colab_type": "text"
      },
      "source": [
        "<a href=\"https://colab.research.google.com/github/FuzzysTodd/1inchProtocol/blob/master/Chrome_Bridge_and_Macro_Controller.ipynb\" target=\"_parent\"><img src=\"https://colab.research.google.com/assets/colab-badge.svg\" alt=\"Open In Colab\"/></a>"
      ]
    },
    {
      "cell_type": "code",
      "source": [
        "# A Python script acting as the \"blink computator\" bridge between MQL5 and Chrome.\n",
        "#\n",
        "# 1. Runs a simple web server (Flask) to listen for POST requests from the MQL5 EA.\n",
        "# 2. Uses the PyChromeDevTools library (CDP) to execute macros in Chrome.\n",
        "#\n",
        "# Requires: pip install flask PyChromeDevTools\n",
        "#\n",
        "# NOTE: You MUST launch Chrome with remote debugging enabled:\n",
        "# chrome.exe --remote-debugging-port=9222 --remote-allow-origins=*\n",
        "\n",
        "import json\n",
        "from flask import Flask, request, jsonify\n",
        "import PyChromeDevTools\n",
        "import time\n",
        "import threading\n",
        "\n",
        "app = Flask(__name__)\n",
        "# Global variable for the Chrome interface (assuming Chrome is running on 9222)\n",
        "chrome = None\n",
        "\n",
        "# --- MACRO FUNCTIONS ---\n",
        "def run_chrome_macro(action, symbol, error_code):\n",
        "    \"\"\"\n",
        "    Executes a specific automation sequence in Chrome based on the error received.\n",
        "    \"\"\"\n",
        "    global chrome\n",
        "\n",
        "    # Simple retry logic to ensure Chrome connection is available\n",
        "    if chrome is None:\n",
        "        try:\n",
        "            # Connect to Chrome running on localhost:9222\n",
        "            chrome = PyChromeDevTools.ChromeInterface(host=\"127.0.0.1\", port=9222)\n",
        "            # Enable the domains we need\n",
        "            chrome.Page.enable()\n",
        "            chrome.Network.enable()\n",
        "            print(\"Chrome DevTools Protocol (CDP) connection established.\")\n",
        "        except Exception as e:\n",
        "            print(f\"ERROR: Could not connect to Chrome DevTools (port 9222). Ensure Chrome is running with --remote-debugging-port=9222. Error: {e}\")\n",
        "            return False\n",
        "\n",
        "    try:\n",
        "        if action == \"SERVER_ERROR_RELOAD_PAGE\":\n",
        "            print(f\"MACRO: Server Error detected ({error_code}). Reloading the chart web page.\")\n",
        "            # Example macro: Reload the specific tab where the chart/issue is.\n",
        "            # We assume the relevant page is the main page (index 0)\n",
        "\n",
        "            # Navigate to a fresh page (e.g., your broker's site, or a simple status page)\n",
        "            # You would replace this URL with the page that is causing issues\n",
        "            chrome.Page.navigate(url=\"https://www.google.com/search?q=MQL5+trading+error+fix\")\n",
        "            # Wait for the load event to fire\n",
        "            chrome.wait_event(\"Page.loadEventFired\", timeout=10)\n",
        "\n",
        "            print(\"MACRO COMPLETE: Page reloaded successfully.\")\n",
        "\n",
        "        elif action == \"MQL_RUNTIME_FIX_PAGE\":\n",
        "            print(f\"MACRO: MQL Runtime Error detected ({error_code}). Executing complex script fix.\")\n",
        "            # Example macro: Execute JavaScript to fix a UI issue\n",
        "\n",
        "            # The script attempts to find a common class name and change its style or content.\n",
        "            # You would customize this to target your specific \"Chrome issues.\"\n",
        "            js_script = \"\"\"\n",
        "            (function() {\n",
        "                const element = document.querySelector('.problematic-div-class');\n",
        "                if (element) {\n",
        "                    element.style.backgroundColor = 'lightgreen';\n",
        "                    element.textContent = 'MQL Error Fixed!';\n",
        "                    return 'Success';\n",
        "                }\n",
        "                return 'Element not found';\n",
        "            })();\n",
        "            \"\"\"\n",
        "            result, _ = chrome.Runtime.evaluate(expression=js_script)\n",
        "\n",
        "            # result structure is complex, typically check result['result']['value']\n",
        "            print(f\"MACRO COMPLETE: JS Script executed. Result: {result.get('result', {}).get('value')}\")\n",
        "\n",
        "        else:\n",
        "            print(f\"MACRO WARNING: Unknown action received: {action}\")\n",
        "            return False\n",
        "\n",
        "        return True\n",
        "\n",
        "    except Exception as e:\n",
        "        print(f\"CDP Execution Error: {e}\")\n",
        "        # Reset chrome to force a reconnect attempt next time\n",
        "        chrome = None\n",
        "        return False\n",
        "\n",
        "# --- FLASK ENDPOINT ---\n",
        "@app.route('/api/macro', methods=['POST'])\n",
        "def handle_macro_request():\n",
        "    \"\"\"\n",
        "    Receives the POST request from the MQL5 EA.\n",
        "    \"\"\"\n",
        "    if request.is_json:\n",
        "        data = request.get_json()\n",
        "        action = data.get('action', 'NO_ACTION')\n",
        "        symbol = data.get('symbol', 'UNKNOWN')\n",
        "        error_code = data.get('error_code', 0)\n",
        "\n",
        "        print(\"-\" * 40)\n",
        "        print(f\"RECEIVED REQUEST from MQL5:\")\n",
        "        print(f\"  Action: {action}\")\n",
        "        print(f\"  Symbol: {symbol}\")\n",
        "        print(f\"  Error Code: {error_code}\")\n",
        "\n",
        "        # Run the macro in a separate thread to ensure the HTTP response\n",
        "        # is returned immediately to MQL5, preventing MT5 from waiting too long.\n",
        "        macro_thread = threading.Thread(target=run_chrome_macro, args=(action, symbol, error_code))\n",
        "        macro_thread.start()\n",
        "\n",
        "        return jsonify({\"status\": \"Macro triggered successfully\", \"received_action\": action}), 200\n",
        "    else:\n",
        "        return jsonify({\"status\": \"Failed\", \"error\": \"Content-Type must be application/json\"}), 400\n",
        "\n",
        "# --- MAIN EXECUTION ---\n",
        "if __name__ == '__main__':\n",
        "    print(\"--- Starting MQL5-to-Chrome Bridge (Python Flask Server) ---\")\n",
        "    print(f\"Listening on: http://127.0.0.1:5000/api/macro\")\n",
        "    print(\"Please ensure Chrome is running with the following flag:\")\n",
        "    print(\"  chrome.exe --remote-debugging-port=9222 --remote-allow-origins=*\")\n",
        "    print(\"-\" * 55)\n",
        "\n",
        "    # Run the Flask server\n",
        "    app.run(host='127.0.0.1', port=5000)"
      ],
      "outputs": [
        {
          "output_type": "error",
          "ename": "ModuleNotFoundError",
          "evalue": "No module named 'PyChromeDevTools'",
          "traceback": [
            "\u001b[0;31m---------------------------------------------------------------------------\u001b[0m",
            "\u001b[0;31mModuleNotFoundError\u001b[0m                       Traceback (most recent call last)",
            "\u001b[0;32m/tmp/ipython-input-3205968134.py\u001b[0m in \u001b[0;36m<cell line: 0>\u001b[0;34m()\u001b[0m\n\u001b[1;32m     11\u001b[0m \u001b[0;32mimport\u001b[0m \u001b[0mjson\u001b[0m\u001b[0;34m\u001b[0m\u001b[0;34m\u001b[0m\u001b[0m\n\u001b[1;32m     12\u001b[0m \u001b[0;32mfrom\u001b[0m \u001b[0mflask\u001b[0m \u001b[0;32mimport\u001b[0m \u001b[0mFlask\u001b[0m\u001b[0;34m,\u001b[0m \u001b[0mrequest\u001b[0m\u001b[0;34m,\u001b[0m \u001b[0mjsonify\u001b[0m\u001b[0;34m\u001b[0m\u001b[0;34m\u001b[0m\u001b[0m\n\u001b[0;32m---> 13\u001b[0;31m \u001b[0;32mimport\u001b[0m \u001b[0mPyChromeDevTools\u001b[0m\u001b[0;34m\u001b[0m\u001b[0;34m\u001b[0m\u001b[0m\n\u001b[0m\u001b[1;32m     14\u001b[0m \u001b[0;32mimport\u001b[0m \u001b[0mtime\u001b[0m\u001b[0;34m\u001b[0m\u001b[0;34m\u001b[0m\u001b[0m\n\u001b[1;32m     15\u001b[0m \u001b[0;32mimport\u001b[0m \u001b[0mthreading\u001b[0m\u001b[0;34m\u001b[0m\u001b[0;34m\u001b[0m\u001b[0m\n",
            "\u001b[0;31mModuleNotFoundError\u001b[0m: No module named 'PyChromeDevTools'",
            "",
            "\u001b[0;31m---------------------------------------------------------------------------\u001b[0;32m\nNOTE: If your import is failing due to a missing package, you can\nmanually install dependencies using either !pip or !apt.\n\nTo view examples of installing some common dependencies, click the\n\"Open Examples\" button below.\n\u001b[0;31m---------------------------------------------------------------------------\u001b[0m\n"
          ],
          "errorDetails": {
            "actions": [
              {
                "action": "open_url",
                "actionText": "Open Examples",
                "url": "/notebooks/snippets/importing_libraries.ipynb"
              }
            ]
          }
        }
      ],
      "execution_count": 1,
      "metadata": {
        "colab": {
          "base_uri": "https://localhost:8080/",
          "height": 384
        },
        "id": "2eh1Wva0OSKp",
        "outputId": "b061f129-13a6-47e3-b853-2552b23f7c8c"
      }
    },
    {
      "cell_type": "markdown",
      "source": [
        "# New Section"
      ],
      "metadata": {
        "id": "Xjwr_X7sq_Gd"
      }
    },
    {
      "cell_type": "code",
      "metadata": {
        "id": "0eab8f43"
      },
      "source": [
        "!pip install PyChromeDevTools"
      ],
      "execution_count": null,
      "outputs": []
    }
  ],
  "metadata": {
    "colab": {
      "provenance": [],
      "toc_visible": true,
      "gpuType": "T4",
      "include_colab_link": true
    },
    "kernelspec": {
      "display_name": "Python 3",
      "name": "python3"
    },
    "accelerator": "GPU"
  },
  "nbformat": 4,
  "nbformat_minor": 0
}